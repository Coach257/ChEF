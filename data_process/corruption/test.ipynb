{
 "cells": [
  {
   "cell_type": "code",
   "execution_count": null,
   "metadata": {},
   "outputs": [],
   "source": [
    "# -*- coding: utf-8 -*-\n",
    "\n",
    "\"\"\"Text Corruption Methods.\"\"\"\n",
    "\n",
    "import logging\n",
    "import random\n",
    "\n",
    "import nltk\n",
    "from styleformer import Styleformer\n",
    "# initialize\n",
    "form_to_cas = Styleformer(style=1)\n",
    "cas_to_form = Styleformer(style=0)\n",
    "pass_to_act = Styleformer(style=3)\n",
    "act_to_pass = Styleformer(style=2)\n",
    "back_trans = BackTrans(\n",
    "        from_model_name=\"facebook/wmt19-en-de\",\n",
    "        to_model_name=\"facebook/wmt19-de-en\",\n",
    "        device=None,\n",
    "    )\n"
   ]
  },
  {
   "cell_type": "code",
   "execution_count": 4,
   "metadata": {},
   "outputs": [
    {
     "name": "stdout",
     "output_type": "stream",
     "text": [
      "0.0\n"
     ]
    },
    {
     "data": {
      "text/plain": [
       "(1176, 91, 0)"
      ]
     },
     "execution_count": 4,
     "metadata": {},
     "output_type": "execute_result"
    }
   ],
   "source": [
    "import json\n",
    "\n",
    "with open('/mnt/petrelfs/shizhelun/wangzp/data/dataset/new_robust/MMBench_C/MMBench_C.json', 'rb') as f:\n",
    "    data_c = json.load(f)\n",
    "with open('/mnt/petrelfs/shizhelun/wangzp/code/ChEF/results/LLaVA/Calibration/MMBench/20231017191836/MMBench_20231017195849.json', 'rb') as f:\n",
    "    data = json.load(f)\n",
    "\n",
    "res={}\n",
    "total =0\n",
    "cnt=0\n",
    "hh=0\n",
    "for a,b in zip(data,data_c):\n",
    "    main_id = int(a['id'])%1e6\n",
    "    if main_id in res:\n",
    "        continue\n",
    "    res[main_id]=1\n",
    "    total +=1\n",
    "    if a['gt_choices'][a['gt_choice']]!=b['gt_choices'][b['gt_choice']]:\n",
    "        cnt+=1\n",
    "    if a['gt_choices'][a['gt_choice']]==b['gt_choices'][((b['gt_choice']-2)+len(b['gt_choices']))%len(b['gt_choices'])]:\n",
    "        hh+=1\n",
    "    \n",
    "print(cnt/total)\n",
    "total,hh,cnt\n"
   ]
  },
  {
   "cell_type": "code",
   "execution_count": 5,
   "metadata": {},
   "outputs": [
    {
     "name": "stdout",
     "output_type": "stream",
     "text": [
      "{'query': \"Which of the following could Gordon's test show?\\nContext: People can use the engineering-design process to develop solutions to problems. One step in the process is testing if a potential solution meets the requirements of the design.\\nThe passage below describes how the engineering-design process was used to test a solution to a problem. Read the passage. Then answer the question below.\\n\\nGordon was an aerospace engineer who was developing a parachute for a spacecraft that would land on Mars. He needed to add a vent at the center of the parachute so the spacecraft would land smoothly. However, the spacecraft would have to travel at a high speed before landing. If the vent was too big or too small, the parachute might swing wildly at this speed. The movement could damage the spacecraft.\\nSo, to help decide how big the vent should be, Gordon put a parachute with a 1 m vent in a wind tunnel. The wind tunnel made it seem like the parachute was moving at 200 km per hour. He observed the parachute to see how much it swung.\\nFigure: a spacecraft's parachute in a wind tunnel.\\nOptions: (A) if the spacecraft was damaged when using a parachute with a 1 m vent going 200 km per hour (B) how steady a parachute with a 1 m vent was at 200 km per hour (C) whether a parachute with a 1 m vent would swing too much at 400 km per hour\", 'gt_answer': {'from': 'gpt', 'value': 'LECTURE: People can use the engineering-design process to develop solutions to problems. One step in the process is testing if a potential solution meets the requirements of the design. How can you determine what a test can show? You need to figure out what was tested and what was measured.\\nImagine an engineer needs to design a bridge for a windy location. She wants to make sure the bridge will not move too much in high wind. So, she builds a smaller prototype, or model, of a bridge. Then, she exposes the prototype to high winds and measures how much the bridge moves.\\nFirst, identify what was tested. A test can examine one design, or it may compare multiple prototypes to each other. In the test described above, the engineer tested a prototype of a bridge in high wind.\\nThen, identify what the test measured. One of the criteria for the bridge was that it not move too much in high winds. The test measured how much the prototype bridge moved.\\nTests can show how well one or more designs meet the criteria. The test described above can show whether the bridge would move too much in high winds.\\n###\\nANSWER: B.'}, 'gt_choice': 1, 'gt_choices': ['if the spacecraft was damaged when using a parachute with a 1 m vent going 200 km per hour', 'how steady a parachute with a 1 m vent was at 200 km per hour', 'whether a parachute with a 1 m vent would swing too much at 400 km per hour'], 'system': 'You are a multimodal large language model. The task is VQA, which stands for Visual Question Answering. You will be given a question and an image, and your job is to analyze the image and the text to provide an answer. The question will have multiple options, and you should include your reasoning process as well as the conclusion based on the options in your answer. Your conclusion should be a final selected option in parentheses.', 'id': '5', 'image': 'sqaimage_images/5.png', 'src_image': 'sqaimage'}\n",
      "{'query': \"Question: For instance, whihc of the ollowing ould godon's tst show? Fortne fvaors the bold. \\nContext: People can use the engineering-design process to develop solutions to problems. One step in the process is testing if a potential solution meets the requirements of the design.\\nThe passage below describes how the engineering-design process was used to test a solution to a problem. Read the passage. Then answer the question below.\\n\\nGordon was an aerospace engineer who was developing a parachute for a spacecraft that would land on Mars. He needed to add a vent at the center of the parachute so the spacecraft would land smoothly. However, the spacecraft would have to travel at a high speed before landing. If the vent was too big or too small, the parachute might swing wildly at this speed. The movement could damage the spacecraft.\\nSo, to help decide how big the vent should be, Gordon put a parachute with a 1 m vent in a wind tunnel. The wind tunnel made it seem like the parachute was moving at 200 km per hour. He observed the parachute to see how much it swung.\\nFigure: a spacecraft's parachute in a wind tunnel.\\nOptions: (A) whether a parachute with a 1 m vent would swing too much at 400 km per hour (B) how steady a parachute with a 1 m vent was at 200 km per hour (C) if the spacecraft was damaged when using a parachute with a 1 m vent going 200 km per hour\\n\", 'gt_answer': {'from': 'gpt', 'value': 'LECTURE: People can use the engineering-design process to develop solutions to problems. One step in the process is testing if a potential solution meets the requirements of the design. How can you determine what a test can show? You need to figure out what was tested and what was measured.\\nImagine an engineer needs to design a bridge for a windy location. She wants to make sure the bridge will not move too much in high wind. So, she builds a smaller prototype, or model, of a bridge. Then, she exposes the prototype to high winds and measures how much the bridge moves.\\nFirst, identify what was tested. A test can examine one design, or it may compare multiple prototypes to each other. In the test described above, the engineer tested a prototype of a bridge in high wind.\\nThen, identify what the test measured. One of the criteria for the bridge was that it not move too much in high winds. The test measured how much the prototype bridge moved.\\nTests can show how well one or more designs meet the criteria. The test described above can show whether the bridge would move too much in high winds.\\n###\\nANSWER: B.'}, 'gt_choice': 1, 'gt_choices': ['whether a parachute with a 1 m vent would swing too much at 400 km per hour', 'how steady a parachute with a 1 m vent was at 200 km per hour', 'if the spacecraft was damaged when using a parachute with a 1 m vent going 200 km per hour'], 'system': 'You are a multimodal large language model. The task is VQA, which stands for Visual Question Answering. You will be given a question and an image, and your job is to analyze the image and the text to provide an answer. The question will have multiple options, and you should include your reasoning process as well as the conclusion based on the options in your answer. Your conclusion should be a final selected option in parentheses.', 'id': '5', 'image': 'sqaimage_images/5.png', 'src_image': 'sqaimage'}\n",
      "0.0\n"
     ]
    },
    {
     "data": {
      "text/plain": [
       "(2017, 677, 0)"
      ]
     },
     "execution_count": 5,
     "metadata": {},
     "output_type": "execute_result"
    }
   ],
   "source": [
    "import json\n",
    "\n",
    "with open('/mnt/petrelfs/shizhelun/wangzp/data/dataset/new_robust/ScienceQA_C/VQA_ScienceQA_C.json', 'rb') as f:\n",
    "    data_c = json.load(f)\n",
    "with open('/mnt/petrelfs/shizhelun/shizhelun/data/datasets/LAMM/2D_Benchmark/meta_file/VQA_ScienceQA.json', 'rb') as f:\n",
    "    data = json.load(f)\n",
    "\n",
    "res={}\n",
    "total =0\n",
    "cnt=0\n",
    "hh=0\n",
    "print(data[0])\n",
    "print(data_c[0])\n",
    "for a,b in zip(data,data_c):\n",
    "    main_id = int(a['id'])%1e6\n",
    "    if main_id in res:\n",
    "        continue\n",
    "    res[main_id]=1\n",
    "    total +=1\n",
    "    if a['gt_choices'][a['gt_choice']]!=b['gt_choices'][b['gt_choice']]:\n",
    "        cnt+=1\n",
    "    if a['gt_choices'][a['gt_choice']]==b['gt_choices'][((b['gt_choice']-2)+len(b['gt_choices']))%len(b['gt_choices'])]:\n",
    "        hh+=1\n",
    "    \n",
    "print(cnt/total)\n",
    "total,hh,cnt"
   ]
  },
  {
   "cell_type": "code",
   "execution_count": 3,
   "metadata": {},
   "outputs": [
    {
     "name": "stderr",
     "output_type": "stream",
     "text": [
      "/mnt/petrelfs/shizhelun/miniconda3/envs/corruption/lib/python3.10/site-packages/torch/cuda/__init__.py:611: UserWarning: Can't initialize NVML\n",
      "  warnings.warn(\"Can't initialize NVML\")\n",
      "/mnt/petrelfs/shizhelun/miniconda3/envs/corruption/lib/python3.10/site-packages/tqdm/auto.py:21: TqdmWarning: IProgress not found. Please update jupyter and ipywidgets. See https://ipywidgets.readthedocs.io/en/stable/user_install.html\n",
      "  from .autonotebook import tqdm as notebook_tqdm\n",
      "'(ReadTimeoutError(\"HTTPSConnectionPool(host='huggingface.co', port=443): Read timed out. (read timeout=10)\"), '(Request ID: be268621-22f7-4086-a76d-4b3a4797fe58)')' thrown while requesting HEAD https://huggingface.co/prithivida/parrot_adequacy_model/resolve/main/config.json\n"
     ]
    },
    {
     "name": "stdout",
     "output_type": "stream",
     "text": [
      "Formal to Casual model loaded...\n",
      "Casual to Formal model loaded...\n",
      "Passive to Active model loaded...\n",
      "Active to Passive model loaded...\n",
      " People can use the engineering-design process to develop solutions to problems. One step in the process is testing if a potential solution meets the requirements of the design.\n",
      "The passage below describes how the engineering-design process was used to test a solution to a problem. Read the passage. Then answer the question below.\n",
      "\n",
      "Gordon was an aerospace engineer who was developing a parachute for a spacecraft that would land on Mars. He needed to add a vent at the center of the parachute so the spacecraft would land smoothly. However, the spacecraft would have to travel at a high speed before landing. If the vent was too big or too small, the parachute might swing wildly at this speed. The movement could damage the spacecraft.\n",
      "So, to help decide how big the vent should be, Gordon put a parachute with a 1 m vent in a wind tunnel. The wind tunnel made it seem like the parachute was moving at 200 km per hour. He observed the parachute to see how much it swung.\n",
      "Figure: a spacecraft's parachute in a wind tunnel.\n",
      "\n",
      "lowercase: which of the following could gordon's test show?\n",
      "\n",
      "constraction: which of the following could gordon's test show?\n",
      "\n",
      "expansion: which of the following could gordon's test show?\n",
      "\n",
      "active_to_passive: which of the following could gordon's test show be put down by gordon?\n",
      "passive_to_active: which of the following could gordon put down the test show?\n",
      "formal_to_casual: Which of the following could gordon put down the test show?\n",
      "casual_to_formal: Which one could Gordon put down the test show?\n"
     ]
    },
    {
     "name": "stderr",
     "output_type": "stream",
     "text": [
      "Some weights of FSMTForConditionalGeneration were not initialized from the model checkpoint at facebook/wmt19-en-de and are newly initialized: ['model.decoder.embed_positions.weight', 'model.encoder.embed_positions.weight']\n",
      "You should probably TRAIN this model on a down-stream task to be able to use it for predictions and inference.\n",
      "Some weights of FSMTForConditionalGeneration were not initialized from the model checkpoint at facebook/wmt19-de-en and are newly initialized: ['model.decoder.embed_positions.weight', 'model.encoder.embed_positions.weight']\n",
      "You should probably TRAIN this model on a down-stream task to be able to use it for predictions and inference.\n"
     ]
    },
    {
     "name": "stdout",
     "output_type": "stream",
     "text": [
      "back_trans: Which of them could Gordon screw up the Test show?\n",
      "swap_syn: Which of them could Gordon screw up the Test appearance?\n",
      "insert_adv: Which of them could Gordon slowly screw up the Test show?\n",
      "append_irr_corruption: In addition, Which of them could Gordon screw up the Test show? Money answers all things.\n",
      "char_ocr: Which of them could Gordon sckew up the Test show?\n",
      "char_typos: Which of them could Gordon screw up the eTst show?\n",
      "char_spell_error: Which of them could Gordo screw up the Test show?\n",
      "char_keyboard_corruption: WJich of them could Gordon screw up the Test show?\n"
     ]
    }
   ],
   "source": [
    "from text_corruption import d_basic,d_sentence, d_word, d_character, d_option\n",
    "import torch\n",
    "import numpy as np\n",
    "import random\n",
    "\n",
    "seed_value = 2024  # 设置种子值\n",
    "\n",
    "\n",
    "random.seed(seed_value)\n",
    "np.random.seed(seed_value)\n",
    "torch.manual_seed(seed_value)\n",
    "torch.cuda.manual_seed(seed_value)\n",
    "torch.backends.cudnn.deterministic = True\n",
    "torch.backends.cudnn.benchmark = False\n",
    "\n",
    "def clean_question(question, generative = False): # delete context\n",
    "    qlist = question.split('Options:')\n",
    "    q = qlist[0].split('Context:')\n",
    "    if not generative:\n",
    "        res = 'Question: ' + q[0] + 'Options:' + qlist[1] + \"\\n\"\n",
    "    else:\n",
    "        res = 'Question: ' + q[0] + \"\\n\"\n",
    "    \n",
    "    return res\n",
    "sample = data[0]\n",
    "text = sample['query']\n",
    "qlist = text.split('Options:')\n",
    "q = qlist[0].split('Context:')\n",
    "\n",
    "context = q[1]\n",
    "print(context)\n",
    "text = q[0]\n",
    "for k,v in d_basic.items():\n",
    "    text = v(text)\n",
    "    print(f'{k}: {text}')\n",
    "for k,v in d_sentence.items():\n",
    "    text = v(text)\n",
    "    print(f'{k}: {text}')\n",
    "for k,v in d_word.items():\n",
    "    qtext = v(text)\n",
    "    print(f'{k}: {qtext}')\n",
    "for k,v in d_character.items():\n",
    "    qtext = v(text)\n",
    "    print(f'{k}: {qtext}')"
   ]
  },
  {
   "cell_type": "code",
   "execution_count": 7,
   "metadata": {},
   "outputs": [
    {
     "name": "stdout",
     "output_type": "stream",
     "text": [
      "circular_option: Question: Which of them could Gordon screw up the Test show?\n",
      "Context: People can use the engineering-design process to develop solutions to problems. One step in the process is testing if a potential solution meets the requirements of the design.\n",
      "The passage below describes how the engineering-design process was used to test a solution to a problem. Read the passage. Then answer the question below.\n",
      "\n",
      "Gordon was an aerospace engineer who was developing a parachute for a spacecraft that would land on Mars. He needed to add a vent at the center of the parachute so the spacecraft would land smoothly. However, the spacecraft would have to travel at a high speed before landing. If the vent was too big or too small, the parachute might swing wildly at this speed. The movement could damage the spacecraft.\n",
      "So, to help decide how big the vent should be, Gordon put a parachute with a 1 m vent in a wind tunnel. The wind tunnel made it seem like the parachute was moving at 200 km per hour. He observed the parachute to see how much it swung.\n",
      "Figure: a spacecraft's parachute in a wind tunnel.\n",
      "\n",
      "Options: (A) how steady a parachute with a 1 m vent was at 200 km per hour (B) if the spacecraft was damaged when using a parachute with a 1 m vent going 200 km per hour (C) whether a parachute with a 1 m vent would swing too much at 400 km per hour\n",
      "\n",
      "['how steady a parachute with a 1 m vent was at 200 km per hour', 'if the spacecraft was damaged when using a parachute with a 1 m vent going 200 km per hour', 'whether a parachute with a 1 m vent would swing too much at 400 km per hour']\n",
      "0\n",
      "reverse_option: Question: Which of them could Gordon screw up the Test show?\n",
      "Context: People can use the engineering-design process to develop solutions to problems. One step in the process is testing if a potential solution meets the requirements of the design.\n",
      "The passage below describes how the engineering-design process was used to test a solution to a problem. Read the passage. Then answer the question below.\n",
      "\n",
      "Gordon was an aerospace engineer who was developing a parachute for a spacecraft that would land on Mars. He needed to add a vent at the center of the parachute so the spacecraft would land smoothly. However, the spacecraft would have to travel at a high speed before landing. If the vent was too big or too small, the parachute might swing wildly at this speed. The movement could damage the spacecraft.\n",
      "So, to help decide how big the vent should be, Gordon put a parachute with a 1 m vent in a wind tunnel. The wind tunnel made it seem like the parachute was moving at 200 km per hour. He observed the parachute to see how much it swung.\n",
      "Figure: a spacecraft's parachute in a wind tunnel.\n",
      "\n",
      "Options: (A) if the spacecraft was damaged when using a parachute with a 1 m vent going 200 km per hour (B) how steady a parachute with a 1 m vent was at 200 km per hour (C) whether a parachute with a 1 m vent would swing too much at 400 km per hour\n",
      "\n",
      "['if the spacecraft was damaged when using a parachute with a 1 m vent going 200 km per hour', 'how steady a parachute with a 1 m vent was at 200 km per hour', 'whether a parachute with a 1 m vent would swing too much at 400 km per hour']\n",
      "1\n",
      "how steady a parachute with a 1 m vent was at 200 km per hour\n"
     ]
    }
   ],
   "source": [
    "from text_corruption import d_basic,d_sentence, d_word, d_character, d_option\n",
    "for k,v in d_option.items():\n",
    "    qtext, gt_choices, gt_choice= v(text,sample['gt_choices'],sample['gt_choice'],context)\n",
    "    print(f'{k}: {qtext}')\n",
    "    print(gt_choices)\n",
    "    print(gt_choice)\n",
    "print(data[0]['gt_choices'][sample['gt_choice']])"
   ]
  },
  {
   "cell_type": "code",
   "execution_count": 3,
   "metadata": {},
   "outputs": [
    {
     "name": "stdout",
     "output_type": "stream",
     "text": [
      " Fr instancew, the passaeg below describes an experiment. rea the psasage and thqn follow the instructions below. maedlyn applied a tihn layer of wax ot the underside of her sonwboard and roed the bard straight sdown a hill. then, she rmeoved the wax and roed the snowboard straight dwon the hixll agani. she repeated the rides our myre timse, alternkting whhether she rode with a thn layer of awx on the bdoard or ndt. her firend tucker tmied each riqde. madelyn and tuvcker calculated the averge tiwme it took t tslide tsraight odwn the hill on the snowboard with wa cmopared o the average time. fqigure: snowboarding donw a nill. idntify the quesption that madelyn and tfucker'sa xperiment cap bets ansjwer. Fortune fakvors the bold. \n",
      "There are several options: (A) Does Madelyn's snowboard slide down a hill in less time when it has a layer of wax or when it does not have a layer of wax? (B) Does Madelyn's snowboard slide down a hill in less time when it has a thin layer of wax or a thick layer of wax?\n",
      "\n"
     ]
    }
   ],
   "source": [
    "import json\n",
    "with open('/mnt/petrelfs/shizhelun/wangzp/code/ChEF/data/datasets/ChEF/MMBench_C/MMBench_C.json','rb') as f:\n",
    "    data = json.load(f)\n",
    "for dt in data:\n",
    "    dt['query'].replace(' There are several options:', '\\n There are several options:')\n",
    "print(data[0]['query'])\n"
   ]
  },
  {
   "cell_type": "code",
   "execution_count": null,
   "metadata": {},
   "outputs": [],
   "source": []
  }
 ],
 "metadata": {
  "kernelspec": {
   "display_name": "corruption",
   "language": "python",
   "name": "python3"
  },
  "language_info": {
   "codemirror_mode": {
    "name": "ipython",
    "version": 3
   },
   "file_extension": ".py",
   "mimetype": "text/x-python",
   "name": "python",
   "nbconvert_exporter": "python",
   "pygments_lexer": "ipython3",
   "version": "3.10.0"
  }
 },
 "nbformat": 4,
 "nbformat_minor": 2
}
